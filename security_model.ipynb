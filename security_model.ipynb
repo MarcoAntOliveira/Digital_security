{
 "cells": [
  {
   "cell_type": "code",
   "execution_count": null,
   "metadata": {},
   "outputs": [],
   "source": [
    "import psutil\n",
    "\n",
    "# Exemplo: Verificar uso da CPU\n",
    "cpu_percent = psutil.cpu_percent()\n",
    "print(\"Uso da CPU:\", cpu_percent, \"%\")\n"
   ]
  },
  {
   "cell_type": "code",
   "execution_count": null,
   "metadata": {},
   "outputs": [],
   "source": [
    "from scapy.all import sniff\n",
    "\n",
    "# Exemplo: Sniffing de tráfego de rede\n",
    "def analyze_packet(packet):\n",
    "    # Lógica para analisar o pacote\n",
    "    pass\n",
    "\n",
    "sniff(prn=analyze_packet, count=10)  # Sniff 10 pacotes e chama analyze_packet para cada um\n"
   ]
  },
  {
   "cell_type": "code",
   "execution_count": null,
   "metadata": {},
   "outputs": [],
   "source": [
    "import os\n",
    "\n",
    "# Exemplo: Listar os aplicativos instalados (Android)\n",
    "def list_installed_apps():\n",
    "    apps = os.popen('adb shell pm list packages').read().splitlines()\n",
    "    for app in apps:\n",
    "        print(app)\n",
    "\n",
    "list_installed_apps()\n"
   ]
  }
 ],
 "metadata": {
  "language_info": {
   "name": "python"
  }
 },
 "nbformat": 4,
 "nbformat_minor": 2
}
